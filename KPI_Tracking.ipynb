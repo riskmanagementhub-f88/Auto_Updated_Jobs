{
 "cells": [
  {
   "cell_type": "code",
   "execution_count": 2,
   "metadata": {},
   "outputs": [],
   "source": [
    "import pandas as pd\n",
    "import gspread\n",
    "import gspread_dataframe as gd\n",
    "from gspread_dataframe import get_as_dataframe, set_with_dataframe\n",
    "from oauth2client.service_account import ServiceAccountCredentials # Đọc dữ liệu từ googlesheets\n",
    "from df2gspread import df2gspread as d2g # Ghi dữ liệu lên googlesheets\n",
    "from pprint import pprint\n",
    "from googleapiclient import discovery\n",
    "import pypyodbc #connect với sql server\n",
    "import numpy as np #Tính toán (=,-,*,/)\n",
    "import sqlalchemy #query trực tiếp\n",
    "import urllib #connect url\n",
    "import time #\n",
    "import datetime as dt\n",
    "import pymssql\n",
    "import calendar\n",
    "import seaborn as sns\n",
    "from matplotlib import pyplot as plt\n",
    "import warnings\n",
    "import itertools\n",
    "warnings.filterwarnings(\"ignore\")"
   ]
  },
  {
   "cell_type": "code",
   "execution_count": 3,
   "metadata": {},
   "outputs": [
    {
     "name": "stdout",
     "output_type": "stream",
     "text": [
      "Connected to SQL server: DWH\n"
     ]
    }
   ],
   "source": [
    "#connect server\n",
    "db = pypyodbc.connect(\"Driver={ODBC Driver 17 for SQL Server};\"\n",
    "                        \"Server=103.69.193.246;\"\n",
    "                        \"Database=dwh;\"\n",
    "                        \"uid=dwh;pwd=F88!23456789\")\n",
    "print('Connected to SQL server: DWH')"
   ]
  },
  {
   "cell_type": "code",
   "execution_count": 4,
   "metadata": {},
   "outputs": [],
   "source": [
    "scope = [\"https://spreadsheets.google.com/feeds\",'https://www.googleapis.com/auth/spreadsheets',\"https://www.googleapis.com/auth/drive.file\",\"https://www.googleapis.com/auth/drive\"]\n",
    "credentials = ServiceAccountCredentials.from_json_keyfile_name(r'D:\\F88\\Python code\\Immediate_warning\\service_account.json', scope)\n",
    "gc = gspread.authorize(credentials)"
   ]
  },
  {
   "cell_type": "code",
   "execution_count": 5,
   "metadata": {},
   "outputs": [],
   "source": [
    "write_off_id='15r30_u_xE0iUexkUgsbZqcZTy0htmSflCp-uty_1hWA'\n",
    "write_off_wb=gc.open_by_key(write_off_id)\n",
    "\n",
    "shop_detail_id='1V34xp4Dl4ROUEX_jiG-AiwPUspemhJ0MfxUz8Tvkkzg'\n",
    "shop_detail_wb=gc.open_by_key(shop_detail_id)\n",
    "\n",
    "shop_update_id='1ZTQE_pfBCAUr-0GSMPJBqtCyZVxX4hdiPuT_RDrdjeQ'\n",
    "shop_update_wb=gc.open_by_key(shop_update_id)"
   ]
  },
  {
   "cell_type": "code",
   "execution_count": 6,
   "metadata": {},
   "outputs": [],
   "source": [
    "#Function chuyển sheet thành Data Frame\n",
    "def to_dataframe(wb_name,sheet_name,data_row,col):\n",
    "    a=wb_name.worksheet(sheet_name).get_all_values()\n",
    "    return pd.DataFrame(data=a[data_row:],columns=a[col])\n",
    "\n",
    "#Funtion update data vào sheet wb_name:tên wb,target_sheet: tên sheet cần update; data:dữ liệu muốn update\n",
    "def update_data(wb_name,target_sheet,data):\n",
    "    existing =to_dataframe(wb_name,target_sheet,1,0)\n",
    "    updated = existing.append(data)\n",
    "    gd.set_with_dataframe(wb_name.worksheet(target_sheet),updated)\n",
    "\n",
    "# Function ghi đè dữ liệu lên gg sheet\n",
    "def write_data(wb_name,ws_name,ws_range,data):\n",
    "    wb_name.values_clear(ws_range)\n",
    "    sheet=wb_name.worksheet(ws_name)\n",
    "    set_with_dataframe(sheet,data)\n",
    "    print('Đã ghi dữ liệu lên sheet '+ ws_name)"
   ]
  },
  {
   "cell_type": "code",
   "execution_count": 7,
   "metadata": {},
   "outputs": [],
   "source": [
    "shop_control=to_dataframe(shop_detail_wb,'Quản lý KD',1,0)"
   ]
  },
  {
   "cell_type": "code",
   "execution_count": 8,
   "metadata": {},
   "outputs": [],
   "source": [
    "kpi_data=to_dataframe(shop_detail_wb,'KPI for Master Report',1,0)\n",
    "\n",
    "kpi_data['KPI Dư nợ']=kpi_data['KPI Dư nợ'].apply(lambda x: int(x.replace(',','')))\n",
    "\n",
    "kpi_data=kpi_data[kpi_data.PGD.str.contains('Hội Sở')==False]\n",
    "\n",
    "kpi_proces=kpi_data.groupby(['Năm KPI','Tháng KPI','PGD','Tỉnh/TP','Miền','TPK','ASM'],as_index=False).agg({'KPI Online lead':sum,'KPI Online Sale':sum,'KPI Traffic':sum,'KPI Dư nợ':sum})"
   ]
  },
  {
   "cell_type": "code",
   "execution_count": 9,
   "metadata": {},
   "outputs": [],
   "source": [
    "write_off=to_dataframe(write_off_wb,'list',1,0)\n",
    "\n",
    "write_off.amount=write_off.amount.astype(int)\n",
    "\n",
    "write_off.write_off_period=write_off.write_off_period.astype(int)\n",
    "\n",
    "# Lấy danh sách write-off\n",
    "write_off['code']=write_off.codeno.apply(lambda x: x[4:])"
   ]
  },
  {
   "cell_type": "code",
   "execution_count": 13,
   "metadata": {},
   "outputs": [],
   "source": [
    "def read_bal_kpi(ext_date,kpi_month):\n",
    "    bal_str=\"declare @ext_date date='\"+ext_date+\"'select created,yearmonth,ContractCode,SUBSTRING(contractcode,5,len(contractcode)) as code,CustomerName,CategoryName,FromDate,ToDate,currentMoney,ShopName,ShopCode,ShopID,TuoiNo from pawnoverdue  where categoryname not like N'%vị%' and (shopcode not like N'%TEST%' or shopcode not like N'%HS%') and created=@ext_date\"\n",
    "    bal_data=pd.read_sql_query(bal_str,db)\n",
    "    bal_merge=pd.merge(bal_data,write_off[['write_off_period','code']],on='code',how='left')\n",
    "    bal_merge.loc[bal_merge.write_off_period.isna(),'write_off_period']=9999999\n",
    "    bal_kpi=bal_merge[(bal_merge.write_off_period>bal_merge.yearmonth.max())&(bal_merge.tuoino<11)]\n",
    "    bal_kpi_group=bal_kpi.groupby(['created','shopid','shopcode','shopname'],as_index=False).agg({'currentmoney':sum})\n",
    "    bal_kpi_f=pd.merge(bal_kpi_group,kpi_proces[kpi_proces['Tháng KPI']==kpi_month],left_on='shopname',right_on='PGD',how='left')\n",
    "    bal_kpi_f['bal_gap']=bal_kpi_f['KPI Dư nợ']-bal_kpi_f.currentmoney\n",
    "    bal_kpi_f['complete_rate']=bal_kpi_f.currentmoney/bal_kpi_f['KPI Dư nợ']\n",
    "    return bal_kpi_f"
   ]
  },
  {
   "cell_type": "code",
   "execution_count": 15,
   "metadata": {},
   "outputs": [],
   "source": [
    "check_date = '2020-10-20'\n",
    "# dt.date.today()+dt.timedelta(days=-1)\n",
    "check_month = '10'"
   ]
  },
  {
   "cell_type": "code",
   "execution_count": 16,
   "metadata": {},
   "outputs": [],
   "source": [
    "bal_kpi=read_bal_kpi(check_date, check_month)"
   ]
  },
  {
   "cell_type": "code",
   "execution_count": 1,
   "metadata": {},
   "outputs": [],
   "source": [
    "# bal_kpi[(bal_kpi['Tỉnh/TP']=='TP. Hồ Chí Minh')&(bal_kpi.complete_rate>1)]"
   ]
  },
  {
   "cell_type": "code",
   "execution_count": 75,
   "metadata": {},
   "outputs": [],
   "source": [
    "# kpi_proces[kpi_proces['Tháng KPI']=='7']"
   ]
  },
  {
   "cell_type": "code",
   "execution_count": 17,
   "metadata": {},
   "outputs": [
    {
     "name": "stdout",
     "output_type": "stream",
     "text": [
      "Đã ghi dữ liệu lên sheet kpi\n"
     ]
    }
   ],
   "source": [
    "write_data(shop_update_wb,'kpi','kpi',kpi_proces)"
   ]
  },
  {
   "cell_type": "code",
   "execution_count": 18,
   "metadata": {},
   "outputs": [
    {
     "name": "stdout",
     "output_type": "stream",
     "text": [
      "Đã ghi dữ liệu lên sheet kpi_status\n"
     ]
    }
   ],
   "source": [
    "write_data(shop_update_wb,'kpi_status','kpi_status',bal_kpi)"
   ]
  },
  {
   "cell_type": "code",
   "execution_count": 19,
   "metadata": {},
   "outputs": [
    {
     "name": "stdout",
     "output_type": "stream",
     "text": [
      "Đã ghi dữ liệu lên sheet shop_detail\n"
     ]
    }
   ],
   "source": [
    "write_data(shop_update_wb,'shop_detail','shop_detail',shop_control)"
   ]
  },
  {
   "cell_type": "code",
   "execution_count": 13,
   "metadata": {},
   "outputs": [],
   "source": [
    "# pd.pivot_table(kpi_data[kpi_data['Tháng KPI']=='9'],index='Loại KPI Dư nợ',columns=['Miền'],values='KPI Dư nợ',aggfunc='sum',margins=True)"
   ]
  },
  {
   "cell_type": "code",
   "execution_count": 14,
   "metadata": {},
   "outputs": [],
   "source": [
    "# kpi_data[(kpi_data['Tháng KPI']=='8')&(kpi_data['Miền']=='Miền Trung')]['PGD'].unique()"
   ]
  }
 ],
 "metadata": {
  "kernelspec": {
   "display_name": "Python 3",
   "language": "python",
   "name": "python3"
  },
  "language_info": {
   "codemirror_mode": {
    "name": "ipython",
    "version": 3
   },
   "file_extension": ".py",
   "mimetype": "text/x-python",
   "name": "python",
   "nbconvert_exporter": "python",
   "pygments_lexer": "ipython3",
   "version": "3.7.1"
  }
 },
 "nbformat": 4,
 "nbformat_minor": 4
}
